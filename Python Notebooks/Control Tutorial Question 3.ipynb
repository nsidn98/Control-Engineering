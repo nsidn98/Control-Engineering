{
 "cells": [
  {
   "cell_type": "code",
   "execution_count": 1,
   "metadata": {},
   "outputs": [],
   "source": [
    "import numpy as np\n",
    "import matplotlib.pyplot as plt"
   ]
  },
  {
   "cell_type": "markdown",
   "metadata": {},
   "source": [
    "# Critically damped oscillation \n",
    "$T_r=3.3579$ is the rise time. \n",
    "\n",
    "Writing the equations for the oscillator we get:\n",
    "\n",
    "$0.9=e^{-\\omega_n.t_1}(1+t_1)$ \n",
    "\n",
    "$0.1=e^{-\\omega_n.t_2}(1+t_2)$ \n",
    "\n",
    "Where $t_1$ is the time for it to reach 0.1 of the max amplitude and $t_2$ is the time to reach 0.9 of the max amplitude\n",
    "\n",
    "$\\therefore$ we get $w_n=\\dfrac{1}{1+t_1}log\\Big(\\dfrac{1+t_1}{0.9}\\Big)=\\dfrac{1}{1+t_2}log\\Big(\\dfrac{1+t_2}{0.1}\\Big) \\rightarrow (1)$\n",
    "\n",
    "Also we have $t_2-t_1=3.3579$\n",
    "\n",
    "Substituting the above equation in (1) we get :"
   ]
  },
  {
   "cell_type": "code",
   "execution_count": 2,
   "metadata": {},
   "outputs": [
    {
     "data": {
      "image/png": "[encoded data removed]",
      "text/plain": [
       "<matplotlib.figure.Figure at 0x10447c320>"
      ]
     },
     "metadata": {},
     "output_type": "display_data"
    }
   ],
   "source": [
    "t1 = np.arange(0.1,2,0.01) \n",
    "F=(1/t1)*np.log((1+t1)/0.9)-(1/(3.3579+t1))*np.log((4.3579+t1)/0.1)\n",
    "plt.plot(t1,F)\n",
    "plt.grid()\n",
    "plt.show()"
   ]
  },
  {
   "cell_type": "markdown",
   "metadata": {},
   "source": [
    "$\\therefore t1=0.51$\n",
    "\n",
    "Thus $w_n$=1 "
   ]
  },
  {
   "cell_type": "code",
   "execution_count": null,
   "metadata": {},
   "outputs": [],
   "source": []
  }
 ],
 "metadata": {
  "kernelspec": {
   "display_name": "Python 3",
   "language": "python",
   "name": "python3"
  },
  "language_info": {
   "codemirror_mode": {
    "name": "ipython",
    "version": 3
   },
   "file_extension": ".py",
   "mimetype": "text/x-python",
   "name": "python",
   "nbconvert_exporter": "python",
   "pygments_lexer": "ipython3",
   "version": "3.6.5"
  }
 },
 "nbformat": 4,
 "nbformat_minor": 2
}

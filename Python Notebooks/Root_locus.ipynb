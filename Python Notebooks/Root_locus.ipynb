{
 "cells": [
  {
   "cell_type": "code",
   "execution_count": 26,
   "metadata": {},
   "outputs": [],
   "source": [
    "import numpy as np\n",
    "import sympy as sp\n",
    "import matplotlib.pyplot as plt\n",
    "import scipy"
   ]
  },
  {
   "cell_type": "code",
   "execution_count": 2,
   "metadata": {},
   "outputs": [
    {
     "name": "stdout",
     "output_type": "stream",
     "text": [
      "Enter the numerator of G(s) in terms of s \n",
      "\n"
     ]
    },
    {
     "name": "stdin",
     "output_type": "stream",
     "text": [
      " s**2\n"
     ]
    },
    {
     "name": "stdout",
     "output_type": "stream",
     "text": [
      "Enter the denominator of G(s) in terms of s \n",
      "\n"
     ]
    },
    {
     "name": "stdin",
     "output_type": "stream",
     "text": [
      " s**2+1\n"
     ]
    },
    {
     "name": "stdout",
     "output_type": "stream",
     "text": [
      "Enter the numerator of H(s) in terms of s \n",
      "\n"
     ]
    },
    {
     "name": "stdin",
     "output_type": "stream",
     "text": [
      " 1\n"
     ]
    },
    {
     "name": "stdout",
     "output_type": "stream",
     "text": [
      "Enter the denominator of H(s) in terms of s \n",
      "\n"
     ]
    },
    {
     "name": "stdin",
     "output_type": "stream",
     "text": [
      " 1\n"
     ]
    }
   ],
   "source": [
    "s=sp.Symbol('s')\n",
    "print('Enter the numerator of G(s) in terms of s \\n')\n",
    "G_num=input()\n",
    "print('Enter the denominator of G(s) in terms of s \\n')\n",
    "G_denom=input()\n",
    "print('Enter the numerator of H(s) in terms of s \\n')\n",
    "H_num=input()\n",
    "print('Enter the denominator of H(s) in terms of s \\n')\n",
    "H_denom=input()\n",
    "\n"
   ]
  },
  {
   "cell_type": "code",
   "execution_count": 14,
   "metadata": {},
   "outputs": [
    {
     "data": {
      "text/plain": [
       "(-4, -3)"
      ]
     },
     "execution_count": 14,
     "metadata": {},
     "output_type": "execute_result"
    }
   ],
   "source": [
    "sp.solve(s**2 +8*s+ 25, s)[0].as_real_imag()"
   ]
  },
  {
   "cell_type": "code",
   "execution_count": 3,
   "metadata": {},
   "outputs": [],
   "source": [
    "k=sp.Symbol('k')\n",
    "def argand(a):\n",
    "    import matplotlib.pyplot as plt\n",
    "    import numpy as np\n",
    "    for x in range(len(a)):\n",
    "        plt.plot(a[x].real,a[x].imag,'r',label='python')\n",
    "    limit=np.max(np.ceil(np.absolute(a))) # set limits for axis\n",
    "    plt.xlim((-limit,limit))\n",
    "    plt.ylim((-limit,limit))\n",
    "    plt.ylabel('Imaginary')\n",
    "    plt.xlabel('Real')\n",
    "    plt.show()"
   ]
  },
  {
   "cell_type": "code",
   "execution_count": 33,
   "metadata": {},
   "outputs": [
    {
     "data": {
      "text/plain": [
       "(Poly(1, s, domain='ZZ'), Poly(-13, s, domain='ZZ'))"
      ]
     },
     "execution_count": 33,
     "metadata": {},
     "output_type": "execute_result"
    }
   ],
   "source": [
    "G_num=[1,8,12]\n",
    "G_denom=[1,8,25]\n",
    "H_num=[1]\n",
    "H_denom=[1]\n",
    "\n",
    "\n",
    "s=sp.Symbol('s')\n",
    "\n",
    "def get_poly(coeff_arr):\n",
    "    poly=0\n",
    "    for i in range(len(coeff_arr)):\n",
    "        poly+=(s**(len(coeff_arr)-i-1))*coeff_arr[i]\n",
    "    return poly\n",
    "\n",
    "G_num=get_poly(G_num)\n",
    "G_denom=get_poly(G_denom)\n",
    "H_num=get_poly(H_num)\n",
    "H_denom=get_poly(H_denom)\n",
    "sp.div(sp.Poly(G_num),sp.Poly(G_denom,s))"
   ]
  },
  {
   "cell_type": "code",
   "execution_count": 34,
   "metadata": {},
   "outputs": [
    {
     "data": {
      "text/plain": [
       "Poly(s**2 + 8*s + 12, s, domain='ZZ')"
      ]
     },
     "execution_count": 34,
     "metadata": {},
     "output_type": "execute_result"
    }
   ],
   "source": [
    "sp.Poly(G_num)"
   ]
  },
  {
   "cell_type": "code",
   "execution_count": 37,
   "metadata": {},
   "outputs": [],
   "source": [
    "transferX = signal.lti(np.array(sp.Poly(G_num).coeffs(), dtype=float), np.array(sp.Poly(G_denom).coeffs(), dtype=float))"
   ]
  },
  {
   "cell_type": "code",
   "execution_count": 38,
   "metadata": {},
   "outputs": [
    {
     "data": {
      "text/plain": [
       "TransferFunctionContinuous(\n",
       "array([  1.,   8.,  12.]),\n",
       "array([  1.,   8.,  25.]),\n",
       "dt: None\n",
       ")"
      ]
     },
     "execution_count": 38,
     "metadata": {},
     "output_type": "execute_result"
    }
   ],
   "source": [
    "transferX"
   ]
  },
  {
   "cell_type": "code",
   "execution_count": null,
   "metadata": {},
   "outputs": [],
   "source": []
  }
 ],
 "metadata": {
  "kernelspec": {
   "display_name": "Python 3",
   "language": "python",
   "name": "python3"
  },
  "language_info": {
   "codemirror_mode": {
    "name": "ipython",
    "version": 3
   },
   "file_extension": ".py",
   "mimetype": "text/x-python",
   "name": "python",
   "nbconvert_exporter": "python",
   "pygments_lexer": "ipython3",
   "version": "3.6.5"
  }
 },
 "nbformat": 4,
 "nbformat_minor": 2
}
